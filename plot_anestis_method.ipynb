{
 "cells": [
  {
   "cell_type": "code",
   "execution_count": 1,
   "metadata": {},
   "outputs": [],
   "source": [
    "from __future__ import division\n",
    "\n",
    "import numpy as np\n",
    "import matplotlib\n",
    "matplotlib.use('Agg')\n",
    "import matplotlib.pyplot as plt\n",
    "import matplotlib.animation as animation\n",
    "from mpl_toolkits.mplot3d import Axes3D\n",
    "import viz\n",
    "import cv2\n",
    "import os\n",
    "from os.path import isdir, join\n",
    "from tqdm import tqdm\n",
    "\n",
    "\n",
    "def rotate_body(points, yaw, pitch, roll):\n",
    "    \"\"\"\n",
    "     Rotate the mesh based on the given degrees.\n",
    "    yaw: +right, -left; pitch: +down,-up; roll: +counter clockwise, -clockwise\n",
    "\n",
    "    \"\"\"\n",
    "    # the angles are all in degree\n",
    "    rad_yaw = yaw*np.pi/180.0\n",
    "    rad_pitch = pitch*np.pi/180.0\n",
    "    rad_roll = roll*np.pi/180.0\n",
    "\n",
    "    # This coord system differs from the theory, due to the orientation of basel mesh\n",
    "    # We treat Z-axis as the X-axis\n",
    "    R_roll = np.array([[np.cos(rad_roll),-np.sin(rad_roll),0], [np.sin(rad_roll),np.cos(rad_roll),0], [0,0,1]])\n",
    "    R_yaw = np.array([[np.cos(rad_yaw),0,np.sin(rad_yaw)], [0,1,0], [-np.sin(rad_yaw),0,np.cos(rad_yaw)]])\n",
    "    R_pitch = np.array([[1,0,0], [0,np.cos(rad_pitch),-np.sin(rad_pitch)], [0,np.sin(rad_pitch),np.cos(rad_pitch)]])\n",
    "\n",
    "    rot_mat = np.identity(4)\n",
    "    rot_mat[0:3,0:3] = R_yaw.dot(R_pitch).dot(R_roll)    \n",
    "    # add homogeneous coords\n",
    "    tmp = np.hstack((points,np.ones((points.shape[0],1))))\n",
    "    new_points = tmp.dot(rot_mat.T)\n",
    "    new_points = new_points[:,:3]\n",
    "    \n",
    "    return new_points"
   ]
  },
  {
   "cell_type": "code",
   "execution_count": 2,
   "metadata": {},
   "outputs": [],
   "source": [
    "background = cv2.imread('test.jpg')\n",
    "\n",
    "save_folder = 'results'\n",
    "if not isdir(save_folder):\n",
    "    os.makedirs(save_folder)"
   ]
  },
  {
   "cell_type": "code",
   "execution_count": 3,
   "metadata": {},
   "outputs": [
    {
     "name": "stderr",
     "output_type": "stream",
     "text": [
      "  0%|          | 0/1609 [00:00<?, ?it/s]/home/SERILOCAL/shiyang.c/.conda/envs/py35/lib/python3.5/site-packages/ipykernel_launcher.py:42: DeprecationWarning: The binary mode of fromstring is deprecated, as it behaves surprisingly on unicode inputs. Use frombuffer instead\n",
      "100%|██████████| 1609/1609 [02:18<00:00, 12.18it/s]\n"
     ]
    }
   ],
   "source": [
    "xyz_gt = np.load('xyz_coco.npy') # xyz,joint,frame  \n",
    "\n",
    "# swap z and y axis for visualisation\n",
    "xyz_gt = xyz_gt[...,[0,2,1]]\n",
    "# flip z coord\n",
    "xyz_gt[...,2] *= -1\n",
    "# rotate the body to be upright\n",
    "for i in range(xyz_gt.shape[0]):\n",
    "    xyz_gt[i] = rotate_body(xyz_gt[i],0,-20,0)\n",
    "    \n",
    "frame_number = xyz_gt.shape[0]\n",
    "    \n",
    "# === Plot and animate ===\n",
    "fig = plt.figure(figsize=(10,10))\n",
    "\n",
    "ax = plt.gca(projection='3d')\n",
    "ax.set_title('3D Skeleton Rendering',fontsize=30)\n",
    "\n",
    "ax.axes.xaxis.set_ticklabels([])\n",
    "ax.axes.yaxis.set_ticklabels([])\n",
    "ax.axes.zaxis.set_ticklabels([])\n",
    "ax.set_xlabel(\"X\",fontsize=30)\n",
    "ax.set_ylabel(\"Y\",fontsize=30)\n",
    "ax.set_zlabel(\"Z\",fontsize=30)\n",
    "\n",
    "plt.grid(True)\n",
    "\n",
    "fig.tight_layout()\n",
    "\n",
    "# # visualise (96,) data: https://github.com/una-dinosauria/human-motion-prediction.git \n",
    "# ob = viz.Ax3DPose(ax)\n",
    "\n",
    "# visualise Coco-format data (17,)\n",
    "ob = viz.Ax3DPose17Point(ax)\n",
    "\n",
    "# Plot the conditioning ground truth\n",
    "for i in tqdm(range(frame_number)):        \n",
    "    ob.update(xyz_gt[i])\n",
    "    plt.show(block=False)\n",
    "    fig.canvas.draw()\n",
    "    # Now we can save it to a numpy array.\n",
    "    render_image = np.fromstring(fig.canvas.tostring_rgb(), dtype=np.uint8, sep='')\n",
    "    \n",
    "    render_image = render_image.reshape(fig.canvas.get_width_height()[::-1] + (3,))\n",
    "#     # resize image (if needed)\n",
    "#     h, w = render_image.shape[:2]    \n",
    "#     render_image = cv2.resize(render_image, (w//2,h//2))\n",
    "    \n",
    "    # fill the image with skeleton rendering ( put it on top left for now)    \n",
    "    new_image = background.copy()\n",
    "    new_image[:render_image.shape[0], :render_image.shape[1]] = render_image\n",
    "    \n",
    "    cv2.imwrite(join(save_folder,'{:03d}.jpg'.format(i)), new_image)        "
   ]
  },
  {
   "cell_type": "code",
   "execution_count": null,
   "metadata": {},
   "outputs": [],
   "source": []
  }
 ],
 "metadata": {
  "kernelspec": {
   "display_name": "Python 3",
   "language": "python",
   "name": "python3"
  },
  "language_info": {
   "codemirror_mode": {
    "name": "ipython",
    "version": 3
   },
   "file_extension": ".py",
   "mimetype": "text/x-python",
   "name": "python",
   "nbconvert_exporter": "python",
   "pygments_lexer": "ipython3",
   "version": "3.5.6"
  }
 },
 "nbformat": 4,
 "nbformat_minor": 4
}
